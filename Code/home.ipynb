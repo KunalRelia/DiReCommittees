{
 "cells": [
  {
   "cell_type": "code",
   "execution_count": 1,
   "metadata": {},
   "outputs": [],
   "source": [
    "#import the usual libraries (e.g., pandas, numpy, etc.)\n",
    "import pandas as pd\n",
    "import seaborn as sns\n",
    "from matplotlib import pyplot as plt\n",
    "import numpy as np\n",
    "import re\n",
    "import os\n",
    "\n",
    "#import voter profile generation-related library for RSM\n",
    "from pycomsoc import poset\n",
    "\n",
    "#import DiRe-related libraries\n",
    "import initialization as init\n",
    "import candidates as cand\n",
    "import voters as voter\n",
    "import committee_election as elect\n",
    "\n",
    "#import ipywidgets as widgets for interactive inputs\n",
    "from ipywidgets import interact\n",
    "from ipywidgets import widgets\n",
    "from ipywidgets import Layout"
   ]
  },
  {
   "cell_type": "markdown",
   "metadata": {},
   "source": [
    "## Initializing an election"
   ]
  },
  {
   "cell_type": "code",
   "execution_count": 2,
   "metadata": {},
   "outputs": [],
   "source": [
    "start_election=init.initialization()"
   ]
  },
  {
   "cell_type": "code",
   "execution_count": 3,
   "metadata": {},
   "outputs": [
    {
     "name": "stdout",
     "output_type": "stream",
     "text": [
      "Number of candidates:50\n",
      "Number of voters:100\n",
      "Committee Size (k):6\n",
      "\n",
      "\n",
      "Scoring Rules\n",
      "1. k-Plurality\n",
      "2. k-Borda\n",
      "3. Chamberlain-Courant\n",
      "Your choice:2\n",
      "Enter phi (cohesiveness of voter profile (between 0.1 and 1.0)):0.5\n"
     ]
    }
   ],
   "source": [
    "m=start_election.get_candidates()\n",
    "n=start_election.get_voters()\n",
    "k=start_election.get_committee_size(m)\n",
    "scoring_rule=start_election.get_scoring_rule()\n",
    "voter_profile=start_election.get_voter_profiles_from_RSM(m,n,poset)"
   ]
  },
  {
   "cell_type": "markdown",
   "metadata": {},
   "source": [
    "# Entering Candidate Information"
   ]
  },
  {
   "cell_type": "code",
   "execution_count": 4,
   "metadata": {},
   "outputs": [],
   "source": [
    "candidate_info=cand.candidates()"
   ]
  },
  {
   "cell_type": "code",
   "execution_count": 5,
   "metadata": {},
   "outputs": [
    {
     "name": "stdout",
     "output_type": "stream",
     "text": [
      "Enter the number of candidate attributes:3\n"
     ]
    }
   ],
   "source": [
    "num_of_cand_attributes=candidate_info.get_num_candidate_attributes()"
   ]
  },
  {
   "cell_type": "code",
   "execution_count": 6,
   "metadata": {},
   "outputs": [
    {
     "name": "stdout",
     "output_type": "stream",
     "text": [
      "Enter the number of groups for attribute 1 :9\n",
      "Invalid input. Please enter a valid number of groups for attribute 1 (>0 and <=6).\n",
      "Enter the number of groups for attribute 1 :2\n",
      "Enter the number of groups for attribute 2 :2\n",
      "Enter the number of groups for attribute 3 :2\n"
     ]
    }
   ],
   "source": [
    "cand_attr_groups=[0]*num_of_cand_attributes\n",
    "for i in range(0,num_of_cand_attributes):\n",
    "    cand_attr_groups[i]=candidate_info.get_num_attribute_groups(i,m,k)"
   ]
  },
  {
   "cell_type": "code",
   "execution_count": 7,
   "metadata": {},
   "outputs": [
    {
     "name": "stdout",
     "output_type": "stream",
     "text": [
      "Enter the lower bound for Attribute 1, Group 1 :2\n",
      "Enter the lower bound for Attribute 1, Group 2 :3\n",
      "Enter the lower bound for Attribute 2, Group 1 :4\n",
      "Enter the lower bound for Attribute 2, Group 2 :1\n",
      "Enter the lower bound for Attribute 3, Group 1 :3\n",
      "Enter the lower bound for Attribute 3, Group 2 :4\n"
     ]
    }
   ],
   "source": [
    "diversity_constraints = []\n",
    "for i in range(0,num_of_cand_attributes):\n",
    "    diversity_constraints.append([0] * cand_attr_groups[i])\n",
    "    \n",
    "for a in range(0,num_of_cand_attributes):\n",
    "    for i in range(0,cand_attr_groups[a]):\n",
    "        diversity_constraints[a][i]=candidate_info.get_diversity_constraints(a,i,k)"
   ]
  },
  {
   "cell_type": "code",
   "execution_count": 8,
   "metadata": {},
   "outputs": [
    {
     "data": {
      "text/plain": [
       "[[2, 3], [4, 1], [3, 4]]"
      ]
     },
     "execution_count": 8,
     "metadata": {},
     "output_type": "execute_result"
    }
   ],
   "source": [
    "diversity_constraints"
   ]
  },
  {
   "cell_type": "markdown",
   "metadata": {},
   "source": [
    "## Entering Voter Information"
   ]
  },
  {
   "cell_type": "code",
   "execution_count": 9,
   "metadata": {},
   "outputs": [],
   "source": [
    "voter_info=voter.voters()"
   ]
  },
  {
   "cell_type": "code",
   "execution_count": 10,
   "metadata": {},
   "outputs": [
    {
     "name": "stdout",
     "output_type": "stream",
     "text": [
      "Enter the number of voter attributes:2\n"
     ]
    }
   ],
   "source": [
    "num_of_voter_attributes=voter_info.get_num_voter_attributes()"
   ]
  },
  {
   "cell_type": "code",
   "execution_count": 11,
   "metadata": {},
   "outputs": [
    {
     "name": "stdout",
     "output_type": "stream",
     "text": [
      "Enter the number of populations for attribute 1 :3\n",
      "Enter the number of populations for attribute 2 :3\n"
     ]
    }
   ],
   "source": [
    "voter_attr_groups=[0]*num_of_voter_attributes\n",
    "for i in range(0,num_of_voter_attributes):\n",
    "    voter_attr_groups[i]=voter_info.get_num_attribute_groups(i,m,k)"
   ]
  },
  {
   "cell_type": "code",
   "execution_count": 12,
   "metadata": {},
   "outputs": [
    {
     "name": "stdout",
     "output_type": "stream",
     "text": [
      "Enter the lower bound for Attribute 1, Population 1 :8\n",
      "Invalid input. Please enter a valid lower bound (>=0 and <=6).\n",
      "Enter the lower bound for Attribute 1, Population 1 :5\n",
      "Enter the lower bound for Attribute 1, Population 2 :5\n",
      "Enter the lower bound for Attribute 1, Population 3 :2\n",
      "Enter the lower bound for Attribute 2, Population 1 :2\n",
      "Enter the lower bound for Attribute 2, Population 2 :1\n",
      "Enter the lower bound for Attribute 2, Population 3 :3\n"
     ]
    }
   ],
   "source": [
    "representation_constraints = []\n",
    "for i in range(0,num_of_voter_attributes):\n",
    "    representation_constraints.append([0] * voter_attr_groups[i])\n",
    "    \n",
    "for a in range(0,num_of_voter_attributes):\n",
    "    for i in range(0,voter_attr_groups[a]):\n",
    "        representation_constraints[a][i]=voter_info.get_representation_constraints(a,i,k)"
   ]
  },
  {
   "cell_type": "code",
   "execution_count": 13,
   "metadata": {},
   "outputs": [
    {
     "data": {
      "text/plain": [
       "[[5, 5, 2], [2, 1, 3]]"
      ]
     },
     "execution_count": 13,
     "metadata": {},
     "output_type": "execute_result"
    }
   ],
   "source": [
    "representation_constraints"
   ]
  },
  {
   "cell_type": "markdown",
   "metadata": {},
   "source": [
    "## Running Heuristic Algorithm"
   ]
  },
  {
   "cell_type": "code",
   "execution_count": 14,
   "metadata": {},
   "outputs": [],
   "source": [
    "a=elect.committee_election(m,n,k,scoring_rule,voter_profile,num_of_cand_attributes,cand_attr_groups,\n",
    "                           diversity_constraints,num_of_voter_attributes,voter_attr_groups,representation_constraints)"
   ]
  },
  {
   "cell_type": "code",
   "execution_count": null,
   "metadata": {},
   "outputs": [],
   "source": []
  },
  {
   "cell_type": "code",
   "execution_count": 15,
   "metadata": {},
   "outputs": [
    {
     "name": "stdout",
     "output_type": "stream",
     "text": [
      "There is no feasible committee!\n"
     ]
    }
   ],
   "source": [
    "a.get_committee()"
   ]
  },
  {
   "cell_type": "code",
   "execution_count": null,
   "metadata": {},
   "outputs": [],
   "source": []
  },
  {
   "cell_type": "code",
   "execution_count": null,
   "metadata": {},
   "outputs": [],
   "source": []
  }
 ],
 "metadata": {
  "kernelspec": {
   "display_name": "Python 3",
   "language": "python",
   "name": "python3"
  },
  "language_info": {
   "codemirror_mode": {
    "name": "ipython",
    "version": 3
   },
   "file_extension": ".py",
   "mimetype": "text/x-python",
   "name": "python",
   "nbconvert_exporter": "python",
   "pygments_lexer": "ipython3",
   "version": "3.7.2"
  }
 },
 "nbformat": 4,
 "nbformat_minor": 2
}
