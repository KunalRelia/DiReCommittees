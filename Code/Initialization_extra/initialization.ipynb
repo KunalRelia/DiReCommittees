{
 "cells": [
  {
   "cell_type": "code",
   "execution_count": null,
   "metadata": {},
   "outputs": [],
   "source": []
  },
  {
   "cell_type": "code",
   "execution_count": 6,
   "metadata": {},
   "outputs": [],
   "source": [
    "def do_global():\n",
    "    global m\n",
    "    global n\n",
    "    global k\n",
    "    global voter_profiles\n",
    "    "
   ]
  },
  {
   "cell_type": "code",
   "execution_count": 7,
   "metadata": {},
   "outputs": [],
   "source": [
    "def initialization(file):\n",
    "    if file is not None:\n",
    "        #Todo: Make this user defined. Need to take input from user.\n",
    "        path=\"/Users/kunalrelia/Desktop/DiReCommittee/Code/DivRepCom/Data/Input/\"\n",
    "        filename=\"25_1000_9_10\"\n",
    "        voter_profiles=pd.read_csv(path+filename+\".csv\")\n",
    "    \n",
    "    m=25\n",
    "    n=10000\n",
    "    k = input(\"Committee Size:\")\n",
    "    do_global()\n",
    "    \n",
    "    "
   ]
  },
  {
   "cell_type": "code",
   "execution_count": null,
   "metadata": {},
   "outputs": [],
   "source": []
  }
 ],
 "metadata": {
  "kernelspec": {
   "display_name": "Python 3",
   "language": "python",
   "name": "python3"
  },
  "language_info": {
   "codemirror_mode": {
    "name": "ipython",
    "version": 3
   },
   "file_extension": ".py",
   "mimetype": "text/x-python",
   "name": "python",
   "nbconvert_exporter": "python",
   "pygments_lexer": "ipython3",
   "version": "3.7.2"
  }
 },
 "nbformat": 4,
 "nbformat_minor": 2
}
